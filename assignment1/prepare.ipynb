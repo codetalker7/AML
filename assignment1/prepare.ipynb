{
 "cells": [
  {
   "cell_type": "code",
   "execution_count": 27,
   "id": "0d2b713c",
   "metadata": {},
   "outputs": [],
   "source": [
    "import numpy as np\n",
    "import pandas as pd\n",
    "import csv\n",
    "from sklearn.model_selection import train_test_split"
   ]
  },
  {
   "cell_type": "code",
   "execution_count": 28,
   "id": "9e0d57a2",
   "metadata": {},
   "outputs": [],
   "source": [
    "def load_data(file_path):\n",
    "    \"\"\"\n",
    "    Load data from ``file_path`` as a dataframe.\n",
    "    \n",
    "    :param file_path: Path of the data file.\n",
    "    \"\"\"\n",
    "    return pd.read_csv(file_path, sep='\\t', names=[\"label\" ,\"message\"], quoting=csv.QUOTE_NONE)\n",
    "\n",
    "def save_data(file_path, df):\n",
    "    \"\"\"\n",
    "    Save ``df`` to the given ``file_path`` as a CSV file.\n",
    "    \n",
    "    :param file_path: Path of the file to be saved.\n",
    "    :param df: Dataframe containing the data to be saved.\n",
    "    \"\"\"\n",
    "    df.to_csv(file_path, index=False)\n",
    "\n",
    "def preprocess(df):\n",
    "    \"\"\"\n",
    "    Preprocess the data in ``df`` to convert string labels to numeric values.\n",
    "    The label \"ham\" will be converted to 0, while the label \"spam\" will be\n",
    "    converted to 1.\n",
    "    \n",
    "    :param df: Dataframe containing the data to be preprocessed.\n",
    "    \"\"\"\n",
    "    df[\"label\"].replace([\"ham\", \"spam\"], [0, 1], inplace=True)\n",
    "    \n",
    "def prepare_train_validation_test_split(df, train_percent=0.7, test_percent=0.15, seed=None):\n",
    "    \"\"\"\n",
    "    Create a randomized 70-15-15 train/validation/test split.\n",
    "    \n",
    "    :param df: Dataframe containing the data to be split.\n",
    "    :param train_percent: Percentage allotted to training data.\n",
    "    :param validate_percent: Percentage allotted to validation data.\n",
    "    :param seed: Seed for random number generator.\n",
    "    \n",
    "    :returns: A tuple (data_train, data_validate, data_test)\n",
    "    \"\"\"\n",
    "    data, data_test = train_test_split(df, test_size=test_percent, random_state=seed)\n",
    "    data_train, data_validate = train_test_split(data, train_size=(train_percent)/(1 - test_percent), random_state=seed)\n",
    "    return (data_train, data_validate, data_test)"
   ]
  },
  {
   "cell_type": "code",
   "execution_count": null,
   "id": "2a7d2084",
   "metadata": {},
   "outputs": [],
   "source": []
  }
 ],
 "metadata": {
  "kernelspec": {
   "display_name": "Python 3 (ipykernel)",
   "language": "python",
   "name": "python3"
  },
  "language_info": {
   "codemirror_mode": {
    "name": "ipython",
    "version": 3
   },
   "file_extension": ".py",
   "mimetype": "text/x-python",
   "name": "python",
   "nbconvert_exporter": "python",
   "pygments_lexer": "ipython3",
   "version": "3.8.10"
  }
 },
 "nbformat": 4,
 "nbformat_minor": 5
}
