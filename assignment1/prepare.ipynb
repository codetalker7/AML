{
 "cells": [
  {
   "cell_type": "code",
   "execution_count": 13,
   "id": "0d2b713c",
   "metadata": {},
   "outputs": [],
   "source": [
    "import numpy as np\n",
    "import pandas as pd\n",
    "import csv\n",
    "import pickle\n",
    "from textblob import TextBlob\n",
    "from sklearn.model_selection import train_test_split\n",
    "from sklearn.feature_extraction.text import CountVectorizer, TfidfTransformer"
   ]
  },
  {
   "cell_type": "code",
   "execution_count": 14,
   "id": "9e0d57a2",
   "metadata": {},
   "outputs": [],
   "source": [
    "def load_data(file_path):\n",
    "    \"\"\"\n",
    "    Load data from ``file_path`` as a dataframe.\n",
    "    \n",
    "    :param file_path: Path of the data file.\n",
    "    \"\"\"\n",
    "    return pd.read_csv(file_path, sep='\\t', names=[\"label\" ,\"message\"], quoting=csv.QUOTE_NONE)\n",
    "\n",
    "def save_data(file_path, df):\n",
    "    \"\"\"\n",
    "    Save ``df`` to the given ``file_path`` as a CSV file.\n",
    "    \n",
    "    :param file_path: Path of the file to be saved.\n",
    "    :param df: Dataframe containing the data to be saved.\n",
    "    \"\"\"\n",
    "    df.to_csv(file_path, index=False)\n",
    "\n",
    "def preprocess(df, bow_transformer):\n",
    "    \"\"\"\n",
    "    Preprocess the data in ``df``. The following preprocessing steps are done.\n",
    "\n",
    "    1. The labels \"ham\" and \"spam\" are converted to 0 and 1 respectively.\n",
    "    2. All messages are converted to tokens.\n",
    "    3. A count vectorizer is used to convert the tokenized messages to vectors.\n",
    "    4. Finally, the vectors are transformed using inverse document frequency and then normalized.\n",
    "    \n",
    "    :param df: Dataframe containing the data to be preprocessed.\n",
    "    :param bow_transformer: A ``CountVectorizer`` to transform the sentences in ``df``.\n",
    "\n",
    "    :returns: Tuple (result_matrix, df[\"label\"])\n",
    "    \"\"\"\n",
    "\n",
    "    # convert string labels to numeric labels\n",
    "    df[\"label\"].replace([\"ham\", \"spam\"], [0, 1], inplace=True)\n",
    "    sparse_bow = bow_transformer.transform(df[\"message\"])\n",
    "    tfidf_transformer = TfidfTransformer().fit(sparse_bow)\n",
    "    result_matrix = tfidf_transformer.transform(sparse_bow)\n",
    "    return (result_matrix, df[\"label\"])\n",
    "    \n",
    "    \n",
    "def prepare_train_validation_test_split(df, train_percent=0.7, test_percent=0.15, seed=None):\n",
    "    \"\"\"\n",
    "    Create a randomized 70-15-15 train/validation/test split.\n",
    "    \n",
    "    :param df: Dataframe containing the data to be split.\n",
    "    :param train_percent: Percentage allotted to training data.\n",
    "    :param validate_percent: Percentage allotted to validation data.\n",
    "    :param seed: Seed for random number generator.\n",
    "    \n",
    "    :returns: A tuple (data_train, data_validate, data_test)\n",
    "    \"\"\"\n",
    "    data, data_test = train_test_split(df, test_size=test_percent, random_state=seed)\n",
    "    data_train, data_validate = train_test_split(data, train_size=(train_percent)/(1 - test_percent), random_state=seed)\n",
    "    return (data_train, data_validate, data_test)"
   ]
  },
  {
   "cell_type": "code",
   "execution_count": 15,
   "id": "2a7d2084",
   "metadata": {},
   "outputs": [
    {
     "data": {
      "text/html": [
       "<div>\n",
       "<style scoped>\n",
       "    .dataframe tbody tr th:only-of-type {\n",
       "        vertical-align: middle;\n",
       "    }\n",
       "\n",
       "    .dataframe tbody tr th {\n",
       "        vertical-align: top;\n",
       "    }\n",
       "\n",
       "    .dataframe thead th {\n",
       "        text-align: right;\n",
       "    }\n",
       "</style>\n",
       "<table border=\"1\" class=\"dataframe\">\n",
       "  <thead>\n",
       "    <tr style=\"text-align: right;\">\n",
       "      <th></th>\n",
       "      <th>label</th>\n",
       "      <th>message</th>\n",
       "    </tr>\n",
       "  </thead>\n",
       "  <tbody>\n",
       "    <tr>\n",
       "      <th>0</th>\n",
       "      <td>ham</td>\n",
       "      <td>Go until jurong point, crazy.. Available only ...</td>\n",
       "    </tr>\n",
       "    <tr>\n",
       "      <th>1</th>\n",
       "      <td>ham</td>\n",
       "      <td>Ok lar... Joking wif u oni...</td>\n",
       "    </tr>\n",
       "    <tr>\n",
       "      <th>2</th>\n",
       "      <td>spam</td>\n",
       "      <td>Free entry in 2 a wkly comp to win FA Cup fina...</td>\n",
       "    </tr>\n",
       "    <tr>\n",
       "      <th>3</th>\n",
       "      <td>ham</td>\n",
       "      <td>U dun say so early hor... U c already then say...</td>\n",
       "    </tr>\n",
       "    <tr>\n",
       "      <th>4</th>\n",
       "      <td>ham</td>\n",
       "      <td>Nah I don't think he goes to usf, he lives aro...</td>\n",
       "    </tr>\n",
       "    <tr>\n",
       "      <th>...</th>\n",
       "      <td>...</td>\n",
       "      <td>...</td>\n",
       "    </tr>\n",
       "    <tr>\n",
       "      <th>5569</th>\n",
       "      <td>spam</td>\n",
       "      <td>This is the 2nd time we have tried 2 contact u...</td>\n",
       "    </tr>\n",
       "    <tr>\n",
       "      <th>5570</th>\n",
       "      <td>ham</td>\n",
       "      <td>Will ü b going to esplanade fr home?</td>\n",
       "    </tr>\n",
       "    <tr>\n",
       "      <th>5571</th>\n",
       "      <td>ham</td>\n",
       "      <td>Pity, * was in mood for that. So...any other s...</td>\n",
       "    </tr>\n",
       "    <tr>\n",
       "      <th>5572</th>\n",
       "      <td>ham</td>\n",
       "      <td>The guy did some bitching but I acted like i'd...</td>\n",
       "    </tr>\n",
       "    <tr>\n",
       "      <th>5573</th>\n",
       "      <td>ham</td>\n",
       "      <td>Rofl. Its true to its name</td>\n",
       "    </tr>\n",
       "  </tbody>\n",
       "</table>\n",
       "<p>5574 rows × 2 columns</p>\n",
       "</div>"
      ],
      "text/plain": [
       "     label                                            message\n",
       "0      ham  Go until jurong point, crazy.. Available only ...\n",
       "1      ham                      Ok lar... Joking wif u oni...\n",
       "2     spam  Free entry in 2 a wkly comp to win FA Cup fina...\n",
       "3      ham  U dun say so early hor... U c already then say...\n",
       "4      ham  Nah I don't think he goes to usf, he lives aro...\n",
       "...    ...                                                ...\n",
       "5569  spam  This is the 2nd time we have tried 2 contact u...\n",
       "5570   ham               Will ü b going to esplanade fr home?\n",
       "5571   ham  Pity, * was in mood for that. So...any other s...\n",
       "5572   ham  The guy did some bitching but I acted like i'd...\n",
       "5573   ham                         Rofl. Its true to its name\n",
       "\n",
       "[5574 rows x 2 columns]"
      ]
     },
     "execution_count": 15,
     "metadata": {},
     "output_type": "execute_result"
    }
   ],
   "source": [
    "messages = load_data(\"data/SMSSpamCollection\")\n",
    "messages"
   ]
  },
  {
   "cell_type": "code",
   "execution_count": 16,
   "id": "b0b9c3d5",
   "metadata": {},
   "outputs": [
    {
     "name": "stdout",
     "output_type": "stream",
     "text": [
      "(3901, 2)\n",
      "(836, 2)\n",
      "(837, 2)\n"
     ]
    }
   ],
   "source": [
    "train_data, validation_data, test_data = prepare_train_validation_test_split(messages)\n",
    "print(train_data.shape)\n",
    "print(validation_data.shape)\n",
    "print(test_data.shape)"
   ]
  },
  {
   "cell_type": "code",
   "execution_count": 17,
   "id": "f881aea4",
   "metadata": {},
   "outputs": [],
   "source": [
    "save_data(\"data/train.csv\", train_data)\n",
    "save_data(\"data/validation.csv\", validation_data)\n",
    "save_data(\"data/test.csv\", test_data)"
   ]
  },
  {
   "cell_type": "code",
   "execution_count": 18,
   "id": "4b63b21f",
   "metadata": {},
   "outputs": [],
   "source": [
    "def split_into_lemmas(message):\n",
    "    message = message.lower()\n",
    "    words = TextBlob(message).words\n",
    "    # for each word, take its \"base form\" = lemma \n",
    "    return [word.lemma for word in words]\n",
    "\n",
    "bow_transformer = CountVectorizer(analyzer=split_into_lemmas).fit(messages['message'])\n",
    "with open('bow_transformer.pickle', 'wb') as f:\n",
    "    pickle.dump(bow_transformer, f, pickle.HIGHEST_PROTOCOL)"
   ]
  }
 ],
 "metadata": {
  "kernelspec": {
   "display_name": "venv",
   "language": "python",
   "name": "python3"
  },
  "language_info": {
   "codemirror_mode": {
    "name": "ipython",
    "version": 3
   },
   "file_extension": ".py",
   "mimetype": "text/x-python",
   "name": "python",
   "nbconvert_exporter": "python",
   "pygments_lexer": "ipython3",
   "version": "3.8.10"
  },
  "vscode": {
   "interpreter": {
    "hash": "ab0040dabed09ef4069e9312685432cf4a5f6b5e2a5a5cc3ebed87eed4737b4e"
   }
  }
 },
 "nbformat": 4,
 "nbformat_minor": 5
}
