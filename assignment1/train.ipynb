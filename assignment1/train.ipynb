{
 "cells": [
  {
   "cell_type": "code",
   "execution_count": 1,
   "metadata": {},
   "outputs": [],
   "source": [
    "import numpy as np\n",
    "import pandas as pd\n",
    "import csv\n",
    "import pickle\n",
    "import prepare_functions\n",
    "from textblob import TextBlob\n",
    "from sklearn.feature_extraction.text import CountVectorizer, TfidfTransformer"
   ]
  },
  {
   "cell_type": "code",
   "execution_count": 2,
   "metadata": {},
   "outputs": [],
   "source": [
    "def preprocess(df, bow_transformer):\n",
    "    \"\"\"\n",
    "    Preprocess the data in ``df``. The following preprocessing steps are done.\n",
    "\n",
    "    1. The labels \"ham\" and \"spam\" are converted to 0 and 1 respectively.\n",
    "    2. All messages are converted to tokens.\n",
    "    3. A count vectorizer is used to convert the tokenized messages to vectors.\n",
    "    4. Finally, the vectors are transformed using inverse document frequency and then normalized.\n",
    "    \n",
    "    :param df: Dataframe containing the data to be preprocessed.\n",
    "    :param bow_transformer: A ``CountVectorizer`` to transform the sentences in ``df``.\n",
    "\n",
    "    :returns: Tuple (result_matrix, df[\"label\"])\n",
    "    \"\"\"\n",
    "\n",
    "    # convert string labels to numeric labels\n",
    "    df[\"label\"].replace([\"ham\", \"spam\"], [0, 1], inplace=True)\n",
    "    sparse_bow = bow_transformer.transform(df[\"message\"])\n",
    "    tfidf_transformer = TfidfTransformer().fit(sparse_bow)\n",
    "    result_matrix = tfidf_transformer.transform(sparse_bow)\n",
    "    return (result_matrix, df[\"label\"])"
   ]
  },
  {
   "cell_type": "code",
   "execution_count": 3,
   "metadata": {},
   "outputs": [],
   "source": [
    "with open('bow_transformer.pickle', 'rb') as f:\n",
    "    bow_transformer = pickle.load(f)"
   ]
  },
  {
   "cell_type": "code",
   "execution_count": 6,
   "metadata": {},
   "outputs": [],
   "source": [
    "train_data = prepare_functions.load_data(\"data/train.csv\", separator=',')\n",
    "validation_data = prepare_functions.load_data(\"data/validation.csv\", separator=',')\n",
    "test_data = prepare_functions.load_data(\"data/test.csv\", separator=',')\n",
    "\n",
    "print(train_data.shape)\n",
    "print(validation_data.shape)\n",
    "print(test_data.shape)"
   ]
  },
  {
   "cell_type": "code",
   "execution_count": 10,
   "metadata": {},
   "outputs": [
    {
     "name": "stdout",
     "output_type": "stream",
     "text": [
      "(3901, 8731)\n",
      "(836, 8731)\n",
      "(837, 8731)\n"
     ]
    }
   ],
   "source": [
    "train_matrix, train_labels = preprocess(train_data, bow_transformer)\n",
    "validation_matrix, validation_labels = preprocess(validation_data, bow_transformer)\n",
    "test_matrix, test_labels = preprocess(test_data, bow_transformer)\n",
    "\n",
    "print(train_matrix.shape)\n",
    "print(validation_matrix.shape)\n",
    "print(test_matrix.shape)"
   ]
  }
 ],
 "metadata": {
  "kernelspec": {
   "display_name": "venv",
   "language": "python",
   "name": "python3"
  },
  "language_info": {
   "codemirror_mode": {
    "name": "ipython",
    "version": 3
   },
   "file_extension": ".py",
   "mimetype": "text/x-python",
   "name": "python",
   "nbconvert_exporter": "python",
   "pygments_lexer": "ipython3",
   "version": "3.8.10"
  },
  "orig_nbformat": 4,
  "vscode": {
   "interpreter": {
    "hash": "ab0040dabed09ef4069e9312685432cf4a5f6b5e2a5a5cc3ebed87eed4737b4e"
   }
  }
 },
 "nbformat": 4,
 "nbformat_minor": 2
}
