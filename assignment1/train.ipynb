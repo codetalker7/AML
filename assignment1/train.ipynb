{
 "cells": [
  {
   "cell_type": "code",
   "execution_count": 12,
   "metadata": {},
   "outputs": [],
   "source": [
    "import pickle\n",
    "import prepare_functions\n",
    "import train_functions"
   ]
  },
  {
   "cell_type": "code",
   "execution_count": 13,
   "metadata": {},
   "outputs": [],
   "source": [
    "# loading the saved count vectorizer\n",
    "with open('bow_transformer.pickle', 'rb') as f:\n",
    "    bow_transformer = pickle.load(f)"
   ]
  },
  {
   "cell_type": "code",
   "execution_count": 14,
   "metadata": {},
   "outputs": [
    {
     "name": "stdout",
     "output_type": "stream",
     "text": [
      "(3900, 2)\n",
      "(836, 2)\n",
      "(836, 2)\n"
     ]
    }
   ],
   "source": [
    "# loading the datasets\n",
    "train_data = prepare_functions.load_data(\"data/train.csv\", separator=',')\n",
    "validation_data = prepare_functions.load_data(\"data/validation.csv\", separator=',')\n",
    "test_data = prepare_functions.load_data(\"data/test.csv\", separator=',')\n",
    "\n",
    "print(train_data.shape)\n",
    "print(validation_data.shape)\n",
    "print(test_data.shape)"
   ]
  },
  {
   "cell_type": "code",
   "execution_count": 15,
   "metadata": {},
   "outputs": [
    {
     "name": "stdout",
     "output_type": "stream",
     "text": [
      "(3900, 8731)\n",
      "(836, 8731)\n",
      "(836, 8731)\n"
     ]
    }
   ],
   "source": [
    "# preprocessing the datasets, converting into sparse matrices\n",
    "train_matrix, train_labels = prepare_functions.preprocess(train_data, bow_transformer)\n",
    "validation_matrix, validation_labels = prepare_functions.preprocess(validation_data, bow_transformer)\n",
    "test_matrix, test_labels = prepare_functions.preprocess(test_data, bow_transformer)\n",
    "\n",
    "print(train_matrix.shape)\n",
    "print(validation_matrix.shape)\n",
    "print(test_matrix.shape)"
   ]
  },
  {
   "cell_type": "code",
   "execution_count": 16,
   "metadata": {},
   "outputs": [],
   "source": [
    "# importing modules for the three classifiers\n",
    "from sklearn.naive_bayes import MultinomialNB\n",
    "from sklearn.linear_model import LogisticRegression\n",
    "from sklearn.ensemble import RandomForestClassifier"
   ]
  },
  {
   "cell_type": "code",
   "execution_count": 17,
   "metadata": {},
   "outputs": [],
   "source": [
    "# training the classifiers on the training data\n",
    "naive_bayes = MultinomialNB()\n",
    "logistic_regression = LogisticRegression(random_state=1)\n",
    "random_forest = RandomForestClassifier(random_state=1)\n",
    "\n",
    "train_functions.train_model(naive_bayes, train_matrix, train_labels)\n",
    "train_functions.train_model(logistic_regression, train_matrix, train_labels)\n",
    "train_functions.train_model(random_forest, train_matrix, train_labels)"
   ]
  },
  {
   "cell_type": "code",
   "execution_count": 18,
   "metadata": {},
   "outputs": [
    {
     "name": "stdout",
     "output_type": "stream",
     "text": [
      "accuracy:  0.9473684210526315\n",
      "precision:  1.0\n",
      "recall:  0.6173913043478261\n",
      "confusion matrix:\n",
      " [[721   0]\n",
      " [ 44  71]]\n",
      "-----x-----x-----\n",
      "\n",
      "accuracy:  0.965311004784689\n",
      "precision:  0.9886363636363636\n",
      "recall:  0.7565217391304347\n",
      "confusion matrix:\n",
      " [[720   1]\n",
      " [ 28  87]]\n",
      "-----x-----x-----\n",
      "\n",
      "accuracy:  0.972488038277512\n",
      "precision:  1.0\n",
      "recall:  0.8\n",
      "confusion matrix:\n",
      " [[721   0]\n",
      " [ 23  92]]\n",
      "-----x-----x-----\n",
      "\n"
     ]
    }
   ],
   "source": [
    "# evaluating the classifiers on the validation dataset\n",
    "train_functions.evaluate_model(naive_bayes, validation_matrix, validation_labels)\n",
    "train_functions.evaluate_model(logistic_regression, validation_matrix, validation_labels)\n",
    "train_functions.evaluate_model(random_forest, validation_matrix, validation_labels)"
   ]
  },
  {
   "cell_type": "code",
   "execution_count": 19,
   "metadata": {},
   "outputs": [
    {
     "name": "stdout",
     "output_type": "stream",
     "text": [
      "accuracy:  0.9677033492822966\n"
     ]
    }
   ],
   "source": [
    "# the classifier with the best validation accuracy is the\n",
    "# random forest classifier. Reporting it's accuracy on the test data.\n",
    "from sklearn.metrics import accuracy_score\n",
    "predictions = random_forest.predict(test_matrix)\n",
    "print(\"accuracy: \", accuracy_score(test_labels, predictions))"
   ]
  }
 ],
 "metadata": {
  "kernelspec": {
   "display_name": "venv",
   "language": "python",
   "name": "python3"
  },
  "language_info": {
   "codemirror_mode": {
    "name": "ipython",
    "version": 3
   },
   "file_extension": ".py",
   "mimetype": "text/x-python",
   "name": "python",
   "nbconvert_exporter": "python",
   "pygments_lexer": "ipython3",
   "version": "3.8.10"
  },
  "orig_nbformat": 4,
  "vscode": {
   "interpreter": {
    "hash": "ab0040dabed09ef4069e9312685432cf4a5f6b5e2a5a5cc3ebed87eed4737b4e"
   }
  }
 },
 "nbformat": 4,
 "nbformat_minor": 2
}
