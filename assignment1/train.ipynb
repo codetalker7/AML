{
 "cells": [
  {
   "cell_type": "code",
   "execution_count": 1,
   "metadata": {},
   "outputs": [],
   "source": [
    "import pickle\n",
    "import prepare_functions\n",
    "import train_functions"
   ]
  },
  {
   "cell_type": "code",
   "execution_count": 2,
   "metadata": {},
   "outputs": [],
   "source": [
    "with open('bow_transformer.pickle', 'rb') as f:\n",
    "    bow_transformer = pickle.load(f)"
   ]
  },
  {
   "cell_type": "code",
   "execution_count": 3,
   "metadata": {},
   "outputs": [
    {
     "name": "stdout",
     "output_type": "stream",
     "text": [
      "(3901, 2)\n",
      "(836, 2)\n",
      "(837, 2)\n"
     ]
    }
   ],
   "source": [
    "train_data = prepare_functions.load_data(\"data/train.csv\", separator=',')\n",
    "validation_data = prepare_functions.load_data(\"data/validation.csv\", separator=',')\n",
    "test_data = prepare_functions.load_data(\"data/test.csv\", separator=',')\n",
    "\n",
    "print(train_data.shape)\n",
    "print(validation_data.shape)\n",
    "print(test_data.shape)"
   ]
  },
  {
   "cell_type": "code",
   "execution_count": 4,
   "metadata": {},
   "outputs": [
    {
     "name": "stdout",
     "output_type": "stream",
     "text": [
      "(3901, 8731)\n",
      "(836, 8731)\n",
      "(837, 8731)\n"
     ]
    }
   ],
   "source": [
    "train_matrix, train_labels = prepare_functions.preprocess(train_data, bow_transformer)\n",
    "validation_matrix, validation_labels = prepare_functions.preprocess(validation_data, bow_transformer)\n",
    "test_matrix, test_labels = prepare_functions.preprocess(test_data, bow_transformer)\n",
    "\n",
    "print(train_matrix.shape)\n",
    "print(validation_matrix.shape)\n",
    "print(test_matrix.shape)"
   ]
  }
 ],
 "metadata": {
  "kernelspec": {
   "display_name": "venv",
   "language": "python",
   "name": "python3"
  },
  "language_info": {
   "codemirror_mode": {
    "name": "ipython",
    "version": 3
   },
   "file_extension": ".py",
   "mimetype": "text/x-python",
   "name": "python",
   "nbconvert_exporter": "python",
   "pygments_lexer": "ipython3",
   "version": "3.8.10"
  },
  "orig_nbformat": 4,
  "vscode": {
   "interpreter": {
    "hash": "ab0040dabed09ef4069e9312685432cf4a5f6b5e2a5a5cc3ebed87eed4737b4e"
   }
  }
 },
 "nbformat": 4,
 "nbformat_minor": 2
}
