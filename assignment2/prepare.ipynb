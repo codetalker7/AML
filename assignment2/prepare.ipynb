{
 "cells": [
  {
   "cell_type": "code",
   "execution_count": 49,
   "id": "0d2b713c",
   "metadata": {},
   "outputs": [],
   "source": [
    "import numpy as np\n",
    "import pandas as pd\n",
    "import csv\n",
    "import pickle\n",
    "import prepare_functions\n",
    "from sklearn.feature_extraction.text import CountVectorizer, TfidfTransformer"
   ]
  },
  {
   "cell_type": "code",
   "execution_count": 50,
   "id": "2a7d2084",
   "metadata": {},
   "outputs": [
    {
     "data": {
      "text/html": [
       "<div>\n",
       "<style scoped>\n",
       "    .dataframe tbody tr th:only-of-type {\n",
       "        vertical-align: middle;\n",
       "    }\n",
       "\n",
       "    .dataframe tbody tr th {\n",
       "        vertical-align: top;\n",
       "    }\n",
       "\n",
       "    .dataframe thead th {\n",
       "        text-align: right;\n",
       "    }\n",
       "</style>\n",
       "<table border=\"1\" class=\"dataframe\">\n",
       "  <thead>\n",
       "    <tr style=\"text-align: right;\">\n",
       "      <th></th>\n",
       "      <th>label</th>\n",
       "      <th>message</th>\n",
       "    </tr>\n",
       "  </thead>\n",
       "  <tbody>\n",
       "    <tr>\n",
       "      <th>0</th>\n",
       "      <td>ham</td>\n",
       "      <td>Go until jurong point, crazy.. Available only ...</td>\n",
       "    </tr>\n",
       "    <tr>\n",
       "      <th>1</th>\n",
       "      <td>ham</td>\n",
       "      <td>Ok lar... Joking wif u oni...</td>\n",
       "    </tr>\n",
       "    <tr>\n",
       "      <th>2</th>\n",
       "      <td>spam</td>\n",
       "      <td>Free entry in 2 a wkly comp to win FA Cup fina...</td>\n",
       "    </tr>\n",
       "    <tr>\n",
       "      <th>3</th>\n",
       "      <td>ham</td>\n",
       "      <td>U dun say so early hor... U c already then say...</td>\n",
       "    </tr>\n",
       "    <tr>\n",
       "      <th>4</th>\n",
       "      <td>ham</td>\n",
       "      <td>Nah I don't think he goes to usf, he lives aro...</td>\n",
       "    </tr>\n",
       "    <tr>\n",
       "      <th>...</th>\n",
       "      <td>...</td>\n",
       "      <td>...</td>\n",
       "    </tr>\n",
       "    <tr>\n",
       "      <th>5567</th>\n",
       "      <td>spam</td>\n",
       "      <td>This is the 2nd time we have tried 2 contact u...</td>\n",
       "    </tr>\n",
       "    <tr>\n",
       "      <th>5568</th>\n",
       "      <td>ham</td>\n",
       "      <td>Will ü b going to esplanade fr home?</td>\n",
       "    </tr>\n",
       "    <tr>\n",
       "      <th>5569</th>\n",
       "      <td>ham</td>\n",
       "      <td>Pity, * was in mood for that. So...any other s...</td>\n",
       "    </tr>\n",
       "    <tr>\n",
       "      <th>5570</th>\n",
       "      <td>ham</td>\n",
       "      <td>The guy did some bitching but I acted like i'd...</td>\n",
       "    </tr>\n",
       "    <tr>\n",
       "      <th>5571</th>\n",
       "      <td>ham</td>\n",
       "      <td>Rofl. Its true to its name</td>\n",
       "    </tr>\n",
       "  </tbody>\n",
       "</table>\n",
       "<p>5572 rows × 2 columns</p>\n",
       "</div>"
      ],
      "text/plain": [
       "     label                                            message\n",
       "0      ham  Go until jurong point, crazy.. Available only ...\n",
       "1      ham                      Ok lar... Joking wif u oni...\n",
       "2     spam  Free entry in 2 a wkly comp to win FA Cup fina...\n",
       "3      ham  U dun say so early hor... U c already then say...\n",
       "4      ham  Nah I don't think he goes to usf, he lives aro...\n",
       "...    ...                                                ...\n",
       "5567  spam  This is the 2nd time we have tried 2 contact u...\n",
       "5568   ham               Will ü b going to esplanade fr home?\n",
       "5569   ham  Pity, * was in mood for that. So...any other s...\n",
       "5570   ham  The guy did some bitching but I acted like i'd...\n",
       "5571   ham                         Rofl. Its true to its name\n",
       "\n",
       "[5572 rows x 2 columns]"
      ]
     },
     "execution_count": 50,
     "metadata": {},
     "output_type": "execute_result"
    }
   ],
   "source": [
    "# loading the dataset\n",
    "messages = prepare_functions.load_data(\"data/SMSSpamCollection\")\n",
    "messages"
   ]
  },
  {
   "cell_type": "code",
   "execution_count": 51,
   "id": "b0b9c3d5",
   "metadata": {},
   "outputs": [
    {
     "name": "stdout",
     "output_type": "stream",
     "text": [
      "(3900, 2)\n",
      "(836, 2)\n",
      "(836, 2)\n"
     ]
    }
   ],
   "source": [
    "# splitting the dataset into training, validation and testing data\n",
    "# here, we use random seed = 1\n",
    "train_data, validation_data, test_data = prepare_functions.prepare_train_validation_test_split(messages, seed=1)\n",
    "print(train_data.shape)\n",
    "print(validation_data.shape)\n",
    "print(test_data.shape)"
   ]
  },
  {
   "cell_type": "code",
   "execution_count": 52,
   "id": "f881aea4",
   "metadata": {},
   "outputs": [],
   "source": [
    "# saving the three datasets as csv files\n",
    "prepare_functions.save_data(\"data/train.csv\", train_data)\n",
    "prepare_functions.save_data(\"data/validation.csv\", validation_data)\n",
    "prepare_functions.save_data(\"data/test.csv\", test_data)"
   ]
  },
  {
   "cell_type": "code",
   "execution_count": 53,
   "id": "f82651f0",
   "metadata": {},
   "outputs": [],
   "source": [
    "# function to get distribution of splitted data\n",
    "def get_distribution():\n",
    "    \"\"\"\n",
    "    Print the distribution (number of 0s and 1s) of the training,\n",
    "    validation and test data.\n",
    "    \"\"\"\n",
    "    training_data = prepare_functions.load_data(\"data/train.csv\", separator=',')\n",
    "    validation_data = prepare_functions.load_data(\"data/validation.csv\", separator=',')\n",
    "    test_data = prepare_functions.load_data(\"data/test.csv\", separator=',')\n",
    "\n",
    "    print(\"Distribution for training data: \\n\", training_data[\"label\"].value_counts(), \"\\n\")\n",
    "    print(\"Distribution for validation data: \\n\", validation_data[\"label\"].value_counts(), \"\\n\")\n",
    "    print(\"Distribution for test data: \\n\", test_data[\"label\"].value_counts(), \"\\n\")"
   ]
  },
  {
   "cell_type": "code",
   "execution_count": 54,
   "id": "a5e245c0",
   "metadata": {},
   "outputs": [
    {
     "name": "stdout",
     "output_type": "stream",
     "text": [
      "Distribution for training data: \n",
      " ham     3381\n",
      "spam     519\n",
      "Name: label, dtype: int64 \n",
      "\n",
      "Distribution for validation data: \n",
      " ham     721\n",
      "spam    115\n",
      "Name: label, dtype: int64 \n",
      "\n",
      "Distribution for test data: \n",
      " ham     723\n",
      "spam    113\n",
      "Name: label, dtype: int64 \n",
      "\n"
     ]
    }
   ],
   "source": [
    "# getting the distribution for the first version of data (seed = 1)\n",
    "get_distribution()"
   ]
  },
  {
   "cell_type": "code",
   "execution_count": 55,
   "id": "333138b9",
   "metadata": {},
   "outputs": [
    {
     "name": "stderr",
     "output_type": "stream",
     "text": [
      "Updated 0 paths from 65d0987\n"
     ]
    },
    {
     "name": "stdout",
     "output_type": "stream",
     "text": [
      "Distribution for training data: \n",
      " ham     3394\n",
      "spam     506\n",
      "Name: label, dtype: int64 \n",
      "\n",
      "Distribution for validation data: \n",
      " ham     709\n",
      "spam    127\n",
      "Name: label, dtype: int64 \n",
      "\n",
      "Distribution for test data: \n",
      " ham     722\n",
      "spam    114\n",
      "Name: label, dtype: int64 \n",
      "\n"
     ]
    }
   ],
   "source": [
    "# getting the distribution for the updated version of data (seed = 10)\n",
    "# this checks out the latest version of data.dvc\n",
    "import os\n",
    "os.system(\"git checkout HEAD data.dvc >> garbage && dvc checkout data.dvc >> garbage\") # checkout the latest version of data.dvc\n",
    "get_distribution()"
   ]
  },
  {
   "cell_type": "code",
   "execution_count": 56,
   "id": "4b63b21f",
   "metadata": {},
   "outputs": [],
   "source": [
    "# saving the count vectorizer to be used later while preprocessing\n",
    "bow_transformer = CountVectorizer(analyzer=prepare_functions.split_into_lemmas).fit(messages['message'])\n",
    "with open('bow_transformer.pickle', 'wb') as f:\n",
    "    pickle.dump(bow_transformer, f, pickle.HIGHEST_PROTOCOL)"
   ]
  }
 ],
 "metadata": {
  "kernelspec": {
   "display_name": "venv",
   "language": "python",
   "name": "python3"
  },
  "language_info": {
   "codemirror_mode": {
    "name": "ipython",
    "version": 3
   },
   "file_extension": ".py",
   "mimetype": "text/x-python",
   "name": "python",
   "nbconvert_exporter": "python",
   "pygments_lexer": "ipython3",
   "version": "3.8.10"
  },
  "vscode": {
   "interpreter": {
    "hash": "6d3f0ab15799972cfaad1fda049057ad9df686eaac780730f07545ace42c42a9"
   }
  }
 },
 "nbformat": 4,
 "nbformat_minor": 5
}
